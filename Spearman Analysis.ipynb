{
 "cells": [
  {
   "cell_type": "code",
   "execution_count": 1,
   "metadata": {},
   "outputs": [],
   "source": [
    "import statistics\n",
    "\n",
    "import matplotlib.pyplot as plt\n",
    "import numpy as np\n",
    "import pandas as pd\n",
    "import seaborn as sns"
   ]
  },
  {
   "cell_type": "code",
   "execution_count": 2,
   "metadata": {},
   "outputs": [],
   "source": [
    "df = pd.read_table(\"Datasets/corr_spearman_matrix.txt\", sep='\\t')"
   ]
  },
  {
   "cell_type": "markdown",
   "metadata": {},
   "source": [
    "### Parsing a little error in the correlation dataset"
   ]
  },
  {
   "cell_type": "code",
   "execution_count": 3,
   "metadata": {},
   "outputs": [],
   "source": [
    "corr_values = df['Correlation']\n",
    "\n",
    "for index, value in enumerate(corr_values):\n",
    "    if '(' not in value:\n",
    "        corr_values[index] = float(value)\n",
    "    else:\n",
    "        corr_values[index] = float(value.split(', ')[0].replace('(', ''))\n",
    "\n",
    "df['Correlation'] = corr_values"
   ]
  },
  {
   "cell_type": "markdown",
   "metadata": {},
   "source": [
    "### Plotting the features distribution"
   ]
  },
  {
   "cell_type": "code",
   "execution_count": 4,
   "metadata": {},
   "outputs": [],
   "source": [
    "def dist_variavel(x, title):\n",
    "    \n",
    "    fig, ax = plt.subplots(1,1, figsize=(20,10)) \n",
    "\n",
    "    ax.set_title('Distribution ' + title)\n",
    "\n",
    "    sns.distplot((x), ax = ax, norm_hist=False)\n",
    "    #plt.hist(x, 20)\n",
    "\n",
    "    #plt.figure(figsize=(20, 10))\n",
    "    xticks = [value/10 for value in range(-10, 10)]\n",
    "    plt.xticks(xticks)\n",
    "    plt.xlabel(\"Correlation\")\n",
    "    plt.ylabel(\"Probability Density\")\n",
    "    plt.grid(True)\n",
    "    plt.show()\n",
    "\n",
    "\n",
    "def plot_ccdf(x, title = ''):\n",
    "    \n",
    "    #colors = list(mcolors.CSS4_COLORS.keys())\n",
    "    fig, ax = plt.subplots(figsize=(15,7))\n",
    "    bins = 100\n",
    "    cnt_color = 11\n",
    "    legends = []\n",
    "\n",
    "\n",
    "\n",
    "    #cdf = your_data.cumsum(0)\n",
    "    #ccdf = 1 - cdf\n",
    "    ccdf = x\n",
    "    ax.hist(ccdf, bins=bins, density=True, histtype='step', linewidth=3,cumulative=-1, label='Empirical')\n",
    "    legends.append('Penalties - PK Attempt')\n",
    "\n",
    "\n",
    "    ax.set_title('CCDF - ' + title)\n",
    "    ax.set_xlabel('Correlation')\n",
    "    #plt.xlim(0,50)\n",
    "    #plt.xticks(range(0,50,5))\n",
    "\n",
    "    ax.grid(True)\n",
    "    ax.set_ylabel('Occurence Probability')\n",
    "    #plt.yticks(np.arange(0,1.0,0.1), fontsize=24)\n",
    "    plt.legend(legends)\n",
    "    "
   ]
  },
  {
   "cell_type": "code",
   "execution_count": 5,
   "metadata": {},
   "outputs": [],
   "source": [
    "positions, feature_set = set(df['Position']), set(df['Feature Set'])\n",
    "\n",
    "# removing nan values\n",
    "df = df.dropna(axis=0, how='any')\n",
    "df = df.loc[df['Correlation'] != -2]\n",
    "\n",
    "# Statistic Features\n",
    "keys = ['Mean', 'Median', '10 Percentile', '25 Percentile', '75 Percentile', '90 Percentile']\n",
    "statistic_features = {}\n",
    "for key in keys:\n",
    "    statistic_features[key] = []\n",
    "\n",
    "# I will save the player and the pair of features\n",
    "keys = ['Players 10', 'Players 90', 'Corr 10', 'Corr 90', 'Pair 10', 'Pair 90']\n",
    "main_players = {}\n",
    "for key in keys:\n",
    "    main_players[key] = []\n",
    "\n",
    "\n",
    "players_complete = set(list(df['Name']))\n",
    "players = {player: {} for player in players_complete}\n",
    "for feature in feature_set:\n",
    "    fifa_features = set(df.loc[df['Feature Set'] == feature]['Feature One'])\n",
    "    for fifa in fifa_features:\n",
    "        ref_features = set(df.loc[df['Feature Set'] == feature]['Feature Two'])\n",
    "        for ref in ref_features:\n",
    "            title =  fifa + ' - ' + ref\n",
    "            eva_df = df.loc[(df['Feature One'] == fifa) & (df['Feature Two'] == ref)]\n",
    "            statistic_features['Mean'].append(statistics.mean(eva_df['Correlation']))\n",
    "            statistic_features['Median'].append(statistics.median(eva_df['Correlation']))\n",
    "            statistic_features['10 Percentile'].append(np.percentile(eva_df['Correlation'], 10))\n",
    "            statistic_features['25 Percentile'].append(np.percentile(eva_df['Correlation'], 25))\n",
    "            statistic_features['75 Percentile'].append(np.percentile(eva_df['Correlation'], 75))\n",
    "            statistic_features['90 Percentile'].append(np.percentile(eva_df['Correlation'], 90))\n",
    "            \n",
    "            per = np.percentile(eva_df['Correlation'], 90)\n",
    "            index = round( (len(eva_df['Correlation']) - 1) * (90 / 100.) )\n",
    "            if per >= 0.3:\n",
    "                teste = sorted(eva_df['Correlation'])\n",
    "                corr_value = eva_df.loc[eva_df['Correlation'] == teste[index]]['Name'].values[0]\n",
    "                main_players['Players 90'].append(corr_value)\n",
    "                main_players['Pair 90'].append(title)\n",
    "                main_players['Corr 90'].append(per)\n",
    "            \n",
    "            \n",
    "            per = np.percentile(eva_df['Correlation'], 10)\n",
    "            index = round( (len(eva_df['Correlation']) - 1) * (10 / 100.) )\n",
    "            if per <= -0.3:\n",
    "                teste = sorted(eva_df['Correlation'])\n",
    "                corr_value = eva_df.loc[eva_df['Correlation'] == teste[index]]['Name'].values[0]\n",
    "                main_players['Players 10'].append(corr_value)\n",
    "                main_players['Pair 10'].append(title)\n",
    "                main_players['Corr 10'].append(per)\n",
    "    \n",
    "            df_players = set(eva_df['Name'])\n",
    "            for player in players.keys():\n",
    "                if player not in df_players:\n",
    "                    players[player][title] = 0\n",
    "                else:\n",
    "                    players[player][title] = max(eva_df.loc[eva_df['Name'] == player]['Correlation'].values)"
   ]
  },
  {
   "cell_type": "code",
   "execution_count": null,
   "metadata": {
    "scrolled": false
   },
   "outputs": [],
   "source": [
    "for key in statistic_features.keys():\n",
    "    dist_variavel(statistic_features[key], key)"
   ]
  },
  {
   "cell_type": "markdown",
   "metadata": {},
   "source": [
    "### HeatMap"
   ]
  },
  {
   "cell_type": "code",
   "execution_count": null,
   "metadata": {},
   "outputs": [],
   "source": [
    "x_labels  = players['Pedro'].keys()\n",
    "y_labels = players.keys()\n",
    "matrix = []\n",
    "\n",
    "for player in players.keys():\n",
    "    matrix.append(list(players[player].values()))\n",
    "\n",
    "\n",
    "fig, ax = plt.subplots(1,1, figsize=(30,30))\n",
    "plot = sns.heatmap(matrix, xticklabels = x_labels, yticklabels = y_labels, linewidths=.3,  cmap=\"YlGnBu\")\n",
    "sns.set(font_scale = 2)\n",
    "plot.axes.set_title(\"Correlation for Players and Pair of Features\",fontsize=30)\n",
    "plot.set_xlabel(\"Pair of features\", fontsize = 30)\n",
    "plot.set_ylabel(\"Players\", fontsize = 30)"
   ]
  },
  {
   "cell_type": "code",
   "execution_count": 6,
   "metadata": {},
   "outputs": [],
   "source": [
    "def count_instances(list_values):\n",
    "\n",
    "    counter = {value: 0 for value in list_values}\n",
    "    for value in set(list_values):\n",
    "        counter[value] = len(list(filter(lambda x: value == x, list_values)))\n",
    "    \n",
    "    return counter\n",
    "\n",
    "def evaluate_percentiles(features, main_players):\n",
    "    \n",
    "    for feature in features:\n",
    "\n",
    "        if 'Player' in feature:\n",
    "            player = count_instances(main_players[feature])\n",
    "        elif 'Corr' in feature:\n",
    "            corr = count_instances(main_players[feature])\n",
    "        elif 'Pair' in feature:\n",
    "            pair = count_instances(main_players[feature])\n",
    "    \n",
    "    return {**player, **corr, **pair}"
   ]
  },
  {
   "cell_type": "code",
   "execution_count": 14,
   "metadata": {
    "scrolled": false
   },
   "outputs": [
    {
     "name": "stdout",
     "output_type": "stream",
     "text": [
      "28\n"
     ]
    },
    {
     "data": {
      "text/plain": [
       "(6, -0.73, -0.594, 'Marking - Tackles Won')"
      ]
     },
     "execution_count": 14,
     "metadata": {},
     "output_type": "execute_result"
    }
   ],
   "source": [
    "def table_values(df, name):\n",
    "    x = df.loc[df['Players 10'] == name]\n",
    "    \n",
    "    return len(x), round(min(x['Corr 10']), 3), round(max(x['Corr 10']),3), x.loc[x['Corr 10'] == min(x['Corr 10'])]['Pair 10'].values[0]\n",
    "    \n",
    "    \n",
    "\n",
    "\n",
    "features_10 = list(filter(lambda x: '10' in x, main_players.keys()))\n",
    "features_90 = list(filter(lambda x: '90' in x, main_players.keys()))\n",
    "#print(len(set(main_players['Players 10'])))\n",
    "#evaluate_percentiles(features_10, main_players)\n",
    "df_ten = pd.DataFrame()\n",
    "df_nine = pd.DataFrame()\n",
    "for key_10, key_90 in zip(features_10, features_90):\n",
    "    df_ten[key_10] = main_players[key_10]\n",
    "    df_nine[key_90] = main_players[key_90]\n",
    "\n",
    "print(len(set(df_nine['Players 90'])))\n",
    "table_values(df_ten, 'Pedro')\n",
    "#df_ten.head(5)"
   ]
  },
  {
   "cell_type": "markdown",
   "metadata": {},
   "source": [
    "### Second Phase: Public Opinion Analysis"
   ]
  },
  {
   "cell_type": "code",
   "execution_count": 15,
   "metadata": {},
   "outputs": [],
   "source": [
    "df_comments = pd.read_table(\"Datasets/comments_spearman.txt\", sep='\\t')"
   ]
  },
  {
   "cell_type": "code",
   "execution_count": 16,
   "metadata": {},
   "outputs": [],
   "source": [
    "df_comments.dropna(how='any', inplace=True)"
   ]
  },
  {
   "cell_type": "code",
   "execution_count": 17,
   "metadata": {},
   "outputs": [
    {
     "data": {
      "text/plain": [
       "0.12024749617753554"
      ]
     },
     "execution_count": 17,
     "metadata": {},
     "output_type": "execute_result"
    }
   ],
   "source": [
    "statistics.mean(df_comments['Correlation'])"
   ]
  },
  {
   "cell_type": "code",
   "execution_count": 23,
   "metadata": {},
   "outputs": [
    {
     "name": "stdout",
     "output_type": "stream",
     "text": [
      "16\n"
     ]
    }
   ],
   "source": [
    "df_comments.loc[(df_comments['Correlation'] >=0.3) | (df_comments['Correlation'] <= -0.3)]\n",
    "\n",
    "print(len(set(x['Name'])))"
   ]
  },
  {
   "cell_type": "code",
   "execution_count": 13,
   "metadata": {
    "scrolled": true
   },
   "outputs": [
    {
     "name": "stderr",
     "output_type": "stream",
     "text": [
      "/usr/lib/python3.7/site-packages/scipy/stats/stats.py:1713: FutureWarning: Using a non-tuple sequence for multidimensional indexing is deprecated; use `arr[tuple(seq)]` instead of `arr[seq]`. In the future this will be interpreted as an array index, `arr[np.array(seq)]`, which will result either in an error or a different result.\n",
      "  return np.add.reduce(sorted[indexer] * weights, axis=axis) / sumval\n"
     ]
    },
    {
     "data": {
      "image/png": "[encoded data removed]",
      "text/plain": [
       "<Figure size 1440x720 with 1 Axes>"
      ]
     },
     "metadata": {},
     "output_type": "display_data"
    }
   ],
   "source": [
    "dist_variavel(df_comments['Correlation'], \"Sentiment - Overall\")"
   ]
  },
  {
   "cell_type": "code",
   "execution_count": 26,
   "metadata": {},
   "outputs": [
    {
     "data": {
      "text/html": [
       "<div>\n",
       "<style scoped>\n",
       "    .dataframe tbody tr th:only-of-type {\n",
       "        vertical-align: middle;\n",
       "    }\n",
       "\n",
       "    .dataframe tbody tr th {\n",
       "        vertical-align: top;\n",
       "    }\n",
       "\n",
       "    .dataframe thead th {\n",
       "        text-align: right;\n",
       "    }\n",
       "</style>\n",
       "<table border=\"1\" class=\"dataframe\">\n",
       "  <thead>\n",
       "    <tr style=\"text-align: right;\">\n",
       "      <th></th>\n",
       "      <th>Name</th>\n",
       "      <th>Correlation</th>\n",
       "      <th>Feature One</th>\n",
       "      <th>Feature Two</th>\n",
       "      <th>Feature Set</th>\n",
       "      <th>Position</th>\n",
       "    </tr>\n",
       "  </thead>\n",
       "  <tbody>\n",
       "    <tr>\n",
       "      <th>17</th>\n",
       "      <td>Álvaro Morata</td>\n",
       "      <td>-0.826334</td>\n",
       "      <td>Overall</td>\n",
       "      <td>Sentiment</td>\n",
       "      <td>Sentiment</td>\n",
       "      <td>ST</td>\n",
       "    </tr>\n",
       "    <tr>\n",
       "      <th>26</th>\n",
       "      <td>Radamel Falcao</td>\n",
       "      <td>-0.339467</td>\n",
       "      <td>Overall</td>\n",
       "      <td>Sentiment</td>\n",
       "      <td>Sentiment</td>\n",
       "      <td>ST</td>\n",
       "    </tr>\n",
       "    <tr>\n",
       "      <th>35</th>\n",
       "      <td>Isco</td>\n",
       "      <td>0.670820</td>\n",
       "      <td>Overall</td>\n",
       "      <td>Sentiment</td>\n",
       "      <td>Sentiment</td>\n",
       "      <td>LW</td>\n",
       "    </tr>\n",
       "    <tr>\n",
       "      <th>42</th>\n",
       "      <td>Juan Cuadrado</td>\n",
       "      <td>0.447214</td>\n",
       "      <td>Overall</td>\n",
       "      <td>Sentiment</td>\n",
       "      <td>Sentiment</td>\n",
       "      <td>RM</td>\n",
       "    </tr>\n",
       "    <tr>\n",
       "      <th>56</th>\n",
       "      <td>David Luiz</td>\n",
       "      <td>-1.000000</td>\n",
       "      <td>Overall</td>\n",
       "      <td>Sentiment</td>\n",
       "      <td>Sentiment</td>\n",
       "      <td>RCB</td>\n",
       "    </tr>\n",
       "    <tr>\n",
       "      <th>60</th>\n",
       "      <td>Bastian Schweinsteiger</td>\n",
       "      <td>-0.478091</td>\n",
       "      <td>Overall</td>\n",
       "      <td>Sentiment</td>\n",
       "      <td>Sentiment</td>\n",
       "      <td>SUB</td>\n",
       "    </tr>\n",
       "    <tr>\n",
       "      <th>65</th>\n",
       "      <td>Javier Hernández</td>\n",
       "      <td>1.000000</td>\n",
       "      <td>Overall</td>\n",
       "      <td>Sentiment</td>\n",
       "      <td>Sentiment</td>\n",
       "      <td>SUB</td>\n",
       "    </tr>\n",
       "    <tr>\n",
       "      <th>67</th>\n",
       "      <td>Zlatan Ibrahimovic</td>\n",
       "      <td>0.948683</td>\n",
       "      <td>Overall</td>\n",
       "      <td>Sentiment</td>\n",
       "      <td>Sentiment</td>\n",
       "      <td>SUB</td>\n",
       "    </tr>\n",
       "    <tr>\n",
       "      <th>80</th>\n",
       "      <td>Jack Wilshere</td>\n",
       "      <td>0.573805</td>\n",
       "      <td>Overall</td>\n",
       "      <td>Sentiment</td>\n",
       "      <td>Sentiment</td>\n",
       "      <td>SUB</td>\n",
       "    </tr>\n",
       "    <tr>\n",
       "      <th>82</th>\n",
       "      <td>Pedro</td>\n",
       "      <td>-0.385467</td>\n",
       "      <td>Overall</td>\n",
       "      <td>Sentiment</td>\n",
       "      <td>Sentiment</td>\n",
       "      <td>SUB</td>\n",
       "    </tr>\n",
       "    <tr>\n",
       "      <th>106</th>\n",
       "      <td>Oscar</td>\n",
       "      <td>0.577350</td>\n",
       "      <td>Overall</td>\n",
       "      <td>Sentiment</td>\n",
       "      <td>Sentiment</td>\n",
       "      <td>CAM</td>\n",
       "    </tr>\n",
       "    <tr>\n",
       "      <th>107</th>\n",
       "      <td>James Rodríguez</td>\n",
       "      <td>0.757240</td>\n",
       "      <td>Overall</td>\n",
       "      <td>Sentiment</td>\n",
       "      <td>Sentiment</td>\n",
       "      <td>CAM</td>\n",
       "    </tr>\n",
       "    <tr>\n",
       "      <th>114</th>\n",
       "      <td>Javier Hernández</td>\n",
       "      <td>0.866025</td>\n",
       "      <td>Overall</td>\n",
       "      <td>Sentiment</td>\n",
       "      <td>Sentiment</td>\n",
       "      <td>LS</td>\n",
       "    </tr>\n",
       "    <tr>\n",
       "      <th>115</th>\n",
       "      <td>Fernando Torres</td>\n",
       "      <td>0.567462</td>\n",
       "      <td>Overall</td>\n",
       "      <td>Sentiment</td>\n",
       "      <td>Sentiment</td>\n",
       "      <td>LS</td>\n",
       "    </tr>\n",
       "    <tr>\n",
       "      <th>121</th>\n",
       "      <td>Luis Suárez</td>\n",
       "      <td>0.654654</td>\n",
       "      <td>Overall</td>\n",
       "      <td>Sentiment</td>\n",
       "      <td>Sentiment</td>\n",
       "      <td>LS</td>\n",
       "    </tr>\n",
       "    <tr>\n",
       "      <th>136</th>\n",
       "      <td>Juan Cuadrado</td>\n",
       "      <td>-1.000000</td>\n",
       "      <td>Overall</td>\n",
       "      <td>Sentiment</td>\n",
       "      <td>Sentiment</td>\n",
       "      <td>RW</td>\n",
       "    </tr>\n",
       "    <tr>\n",
       "      <th>144</th>\n",
       "      <td>Javier Hernández</td>\n",
       "      <td>1.000000</td>\n",
       "      <td>Overall</td>\n",
       "      <td>Sentiment</td>\n",
       "      <td>Sentiment</td>\n",
       "      <td>RS</td>\n",
       "    </tr>\n",
       "    <tr>\n",
       "      <th>154</th>\n",
       "      <td>Bastian Schweinsteiger</td>\n",
       "      <td>-0.774597</td>\n",
       "      <td>Overall</td>\n",
       "      <td>Sentiment</td>\n",
       "      <td>Sentiment</td>\n",
       "      <td>LCB</td>\n",
       "    </tr>\n",
       "    <tr>\n",
       "      <th>174</th>\n",
       "      <td>Wayne Rooney</td>\n",
       "      <td>1.000000</td>\n",
       "      <td>Overall</td>\n",
       "      <td>Sentiment</td>\n",
       "      <td>Sentiment</td>\n",
       "      <td>LCM</td>\n",
       "    </tr>\n",
       "    <tr>\n",
       "      <th>176</th>\n",
       "      <td>Javier Mascherano</td>\n",
       "      <td>0.316228</td>\n",
       "      <td>Overall</td>\n",
       "      <td>Sentiment</td>\n",
       "      <td>Sentiment</td>\n",
       "      <td>LCM</td>\n",
       "    </tr>\n",
       "    <tr>\n",
       "      <th>213</th>\n",
       "      <td>Jack Wilshere</td>\n",
       "      <td>0.471211</td>\n",
       "      <td>Overall</td>\n",
       "      <td>Sentiment</td>\n",
       "      <td>Sentiment</td>\n",
       "      <td>All</td>\n",
       "    </tr>\n",
       "  </tbody>\n",
       "</table>\n",
       "</div>"
      ],
      "text/plain": [
       "                       Name  Correlation Feature One Feature Two Feature Set  \\\n",
       "17            Álvaro Morata    -0.826334     Overall   Sentiment   Sentiment   \n",
       "26           Radamel Falcao    -0.339467     Overall   Sentiment   Sentiment   \n",
       "35                     Isco     0.670820     Overall   Sentiment   Sentiment   \n",
       "42            Juan Cuadrado     0.447214     Overall   Sentiment   Sentiment   \n",
       "56               David Luiz    -1.000000     Overall   Sentiment   Sentiment   \n",
       "60   Bastian Schweinsteiger    -0.478091     Overall   Sentiment   Sentiment   \n",
       "65         Javier Hernández     1.000000     Overall   Sentiment   Sentiment   \n",
       "67       Zlatan Ibrahimovic     0.948683     Overall   Sentiment   Sentiment   \n",
       "80            Jack Wilshere     0.573805     Overall   Sentiment   Sentiment   \n",
       "82                    Pedro    -0.385467     Overall   Sentiment   Sentiment   \n",
       "106                   Oscar     0.577350     Overall   Sentiment   Sentiment   \n",
       "107         James Rodríguez     0.757240     Overall   Sentiment   Sentiment   \n",
       "114        Javier Hernández     0.866025     Overall   Sentiment   Sentiment   \n",
       "115         Fernando Torres     0.567462     Overall   Sentiment   Sentiment   \n",
       "121             Luis Suárez     0.654654     Overall   Sentiment   Sentiment   \n",
       "136           Juan Cuadrado    -1.000000     Overall   Sentiment   Sentiment   \n",
       "144        Javier Hernández     1.000000     Overall   Sentiment   Sentiment   \n",
       "154  Bastian Schweinsteiger    -0.774597     Overall   Sentiment   Sentiment   \n",
       "174            Wayne Rooney     1.000000     Overall   Sentiment   Sentiment   \n",
       "176       Javier Mascherano     0.316228     Overall   Sentiment   Sentiment   \n",
       "213           Jack Wilshere     0.471211     Overall   Sentiment   Sentiment   \n",
       "\n",
       "    Position  \n",
       "17        ST  \n",
       "26        ST  \n",
       "35        LW  \n",
       "42        RM  \n",
       "56       RCB  \n",
       "60       SUB  \n",
       "65       SUB  \n",
       "67       SUB  \n",
       "80       SUB  \n",
       "82       SUB  \n",
       "106      CAM  \n",
       "107      CAM  \n",
       "114       LS  \n",
       "115       LS  \n",
       "121       LS  \n",
       "136       RW  \n",
       "144       RS  \n",
       "154      LCB  \n",
       "174      LCM  \n",
       "176      LCM  \n",
       "213      All  "
      ]
     },
     "execution_count": 26,
     "metadata": {},
     "output_type": "execute_result"
    }
   ],
   "source": [
    "x"
   ]
  },
  {
   "cell_type": "code",
   "execution_count": null,
   "metadata": {},
   "outputs": [],
   "source": []
  }
 ],
 "metadata": {
  "kernelspec": {
   "display_name": "Python 3",
   "language": "python",
   "name": "python3"
  },
  "language_info": {
   "codemirror_mode": {
    "name": "ipython",
    "version": 3
   },
   "file_extension": ".py",
   "mimetype": "text/x-python",
   "name": "python",
   "nbconvert_exporter": "python",
   "pygments_lexer": "ipython3",
   "version": "3.7.3"
  }
 },
 "nbformat": 4,
 "nbformat_minor": 2
}
